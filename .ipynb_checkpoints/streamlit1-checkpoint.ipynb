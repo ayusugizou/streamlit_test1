{
 "cells": [
  {
   "cell_type": "code",
   "execution_count": 5,
   "id": "3f013c0d-7e32-4f19-8dee-99014955c495",
   "metadata": {},
   "outputs": [
    {
     "name": "stdout",
     "output_type": "stream",
     "text": [
      "Overwriting main.py\n"
     ]
    }
   ],
   "source": [
    "%%writefile main.py\n",
    "import streamlit as st\n",
    "import numpy as np\n",
    "import pandas as pd\n",
    "\n",
    "#タイトルの追加\n",
    "st.title('streamlit　入門')"
   ]
  },
  {
   "cell_type": "code",
   "execution_count": null,
   "id": "4813dea4-d715-4e9c-9e16-2d2bdde51daa",
   "metadata": {},
   "outputs": [],
   "source": []
  }
 ],
 "metadata": {
  "kernelspec": {
   "display_name": "streamlit_env",
   "language": "python",
   "name": "streamlit_env"
  },
  "language_info": {
   "codemirror_mode": {
    "name": "ipython",
    "version": 3
   },
   "file_extension": ".py",
   "mimetype": "text/x-python",
   "name": "python",
   "nbconvert_exporter": "python",
   "pygments_lexer": "ipython3",
   "version": "3.7.11"
  }
 },
 "nbformat": 4,
 "nbformat_minor": 5
}
